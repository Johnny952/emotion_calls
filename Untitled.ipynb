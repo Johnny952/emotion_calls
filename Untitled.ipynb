{
 "cells": [
  {
   "cell_type": "code",
   "execution_count": 1,
   "metadata": {},
   "outputs": [],
   "source": [
    "import numpy as np\n",
    "import matplotlib.pyplot as plt\n",
    "import pandas as pd\n",
    "import os\n",
    "from os import listdir"
   ]
  },
  {
   "cell_type": "code",
   "execution_count": 2,
   "metadata": {},
   "outputs": [
    {
     "name": "stderr",
     "output_type": "stream",
     "text": [
      "c:\\users\\jonathan\\appdata\\local\\programs\\python\\python37\\lib\\site-packages\\pydub\\utils.py:165: RuntimeWarning: Couldn't find ffmpeg or avconv - defaulting to ffmpeg, but may not work\n",
      "  warn(\"Couldn't find ffmpeg or avconv - defaulting to ffmpeg, but may not work\", RuntimeWarning)\n"
     ]
    }
   ],
   "source": [
    "import pyAudioAnalysis\n",
    "from pyAudioAnalysis import audioBasicIO\n",
    "from pyAudioAnalysis import ShortTermFeatures"
   ]
  },
  {
   "cell_type": "code",
   "execution_count": 3,
   "metadata": {
    "scrolled": true
   },
   "outputs": [
    {
     "data": {
      "image/png": "[encoded data removed]",
      "text/plain": [
       "<Figure size 432x288 with 2 Axes>"
      ]
     },
     "metadata": {
      "needs_background": "light"
     },
     "output_type": "display_data"
    }
   ],
   "source": [
    "path = \"ravdess/Actor_08/03-01-02-01-02-02-08.wav\"\n",
    "[Fs, x] = audioBasicIO.read_audio_file(path)\n",
    "F, f_names = ShortTermFeatures.feature_extraction(x, Fs, 0.050*Fs, 0.025*Fs)\n",
    "plt.subplot(2,1,1); plt.plot(F[0,:]); plt.xlabel('Frame no'); plt.ylabel(f_names[0]) \n",
    "plt.subplot(2,1,2); plt.plot(F[1,:]); plt.xlabel('Frame no'); plt.ylabel(f_names[1]); plt.show()"
   ]
  },
  {
   "cell_type": "code",
   "execution_count": 4,
   "metadata": {},
   "outputs": [
    {
     "data": {
      "text/plain": [
       "3.470125"
      ]
     },
     "execution_count": 4,
     "metadata": {},
     "output_type": "execute_result"
    }
   ],
   "source": [
    "len(x)/Fs"
   ]
  },
  {
   "cell_type": "code",
   "execution_count": 5,
   "metadata": {},
   "outputs": [
    {
     "data": {
      "text/plain": [
       "['zcr',\n",
       " 'energy',\n",
       " 'energy_entropy',\n",
       " 'spectral_centroid',\n",
       " 'spectral_spread',\n",
       " 'spectral_entropy',\n",
       " 'spectral_flux',\n",
       " 'spectral_rolloff',\n",
       " 'mfcc_1',\n",
       " 'mfcc_2',\n",
       " 'mfcc_3',\n",
       " 'mfcc_4',\n",
       " 'mfcc_5',\n",
       " 'mfcc_6',\n",
       " 'mfcc_7',\n",
       " 'mfcc_8',\n",
       " 'mfcc_9',\n",
       " 'mfcc_10',\n",
       " 'mfcc_11',\n",
       " 'mfcc_12',\n",
       " 'mfcc_13',\n",
       " 'chroma_1',\n",
       " 'chroma_2',\n",
       " 'chroma_3',\n",
       " 'chroma_4',\n",
       " 'chroma_5',\n",
       " 'chroma_6',\n",
       " 'chroma_7',\n",
       " 'chroma_8',\n",
       " 'chroma_9',\n",
       " 'chroma_10',\n",
       " 'chroma_11',\n",
       " 'chroma_12',\n",
       " 'chroma_std',\n",
       " 'delta zcr',\n",
       " 'delta energy',\n",
       " 'delta energy_entropy',\n",
       " 'delta spectral_centroid',\n",
       " 'delta spectral_spread',\n",
       " 'delta spectral_entropy',\n",
       " 'delta spectral_flux',\n",
       " 'delta spectral_rolloff',\n",
       " 'delta mfcc_1',\n",
       " 'delta mfcc_2',\n",
       " 'delta mfcc_3',\n",
       " 'delta mfcc_4',\n",
       " 'delta mfcc_5',\n",
       " 'delta mfcc_6',\n",
       " 'delta mfcc_7',\n",
       " 'delta mfcc_8',\n",
       " 'delta mfcc_9',\n",
       " 'delta mfcc_10',\n",
       " 'delta mfcc_11',\n",
       " 'delta mfcc_12',\n",
       " 'delta mfcc_13',\n",
       " 'delta chroma_1',\n",
       " 'delta chroma_2',\n",
       " 'delta chroma_3',\n",
       " 'delta chroma_4',\n",
       " 'delta chroma_5',\n",
       " 'delta chroma_6',\n",
       " 'delta chroma_7',\n",
       " 'delta chroma_8',\n",
       " 'delta chroma_9',\n",
       " 'delta chroma_10',\n",
       " 'delta chroma_11',\n",
       " 'delta chroma_12',\n",
       " 'delta chroma_std']"
      ]
     },
     "execution_count": 5,
     "metadata": {},
     "output_type": "execute_result"
    }
   ],
   "source": [
    "f_names"
   ]
  },
  {
   "cell_type": "code",
   "execution_count": 6,
   "metadata": {},
   "outputs": [
    {
     "data": {
      "text/plain": [
       "(68, 137)"
      ]
     },
     "execution_count": 6,
     "metadata": {},
     "output_type": "execute_result"
    }
   ],
   "source": [
    "F.shape"
   ]
  },
  {
   "cell_type": "markdown",
   "metadata": {},
   "source": [
    "## Ravdess preprocessing"
   ]
  },
  {
   "cell_type": "code",
   "execution_count": 7,
   "metadata": {},
   "outputs": [],
   "source": [
    "directory1 = \"ravdess\"\n",
    "feature_dir = \"ravdess/features\"\n",
    "labels = \"ravdess/labels.csv\"\n",
    "errors = \"ravdess/errors.csv\""
   ]
  },
  {
   "cell_type": "code",
   "execution_count": 18,
   "metadata": {},
   "outputs": [],
   "source": [
    "f_names_path = '{}/f_names.csv'.format(directory1)\n",
    "\n",
    "with open(f_names_path, 'w') as f:\n",
    "    for name in f_names:\n",
    "        f.write(\"{}\\n\".format(name))"
   ]
  },
  {
   "cell_type": "code",
   "execution_count": 8,
   "metadata": {},
   "outputs": [],
   "source": [
    "def read_names(directory):\n",
    "    return [directory+'/'+l for l in listdir(directory)]"
   ]
  },
  {
   "cell_type": "code",
   "execution_count": 9,
   "metadata": {},
   "outputs": [],
   "source": [
    "subdirs = read_names(directory1)"
   ]
  },
  {
   "cell_type": "code",
   "execution_count": 10,
   "metadata": {},
   "outputs": [],
   "source": [
    "files = []\n",
    "for subdir in subdirs:\n",
    "    files += read_names(subdir)"
   ]
  },
  {
   "cell_type": "code",
   "execution_count": 11,
   "metadata": {},
   "outputs": [
    {
     "data": {
      "text/plain": [
       "'Cantidad de audios totales de Ravdess 1440'"
      ]
     },
     "execution_count": 11,
     "metadata": {},
     "output_type": "execute_result"
    }
   ],
   "source": [
    "\"Cantidad de audios totales de Ravdess {}\".format(len(files))"
   ]
  },
  {
   "cell_type": "code",
   "execution_count": 12,
   "metadata": {},
   "outputs": [],
   "source": [
    "def add_audio_emotion(index, file_path, emotions_path):\n",
    "    emotion = file_path.split(\"/\")[-1].split(\".\")[0].split(\"-\")[2:4]\n",
    "    \n",
    "    with open(emotions_path, \"a+\") as file:\n",
    "        file.write(\"{},{},{}\\n\".format(index, emotion[0], emotion[1]))"
   ]
  },
  {
   "cell_type": "code",
   "execution_count": 13,
   "metadata": {},
   "outputs": [],
   "source": [
    "def add_error(file_path, errors_path):\n",
    "    with open(errors_path, \"a+\") as file:\n",
    "        file.write(\"{}\\n\".format(file_path))"
   ]
  },
  {
   "cell_type": "code",
   "execution_count": 14,
   "metadata": {},
   "outputs": [],
   "source": [
    "lengths = []\n",
    "index = 0\n",
    "for file in files:\n",
    "    try:\n",
    "        # Lee el audio\n",
    "        [Fs, x] = audioBasicIO.read_audio_file(file)\n",
    "        lengths.append(len(x)/Fs)\n",
    "        # Extrae caracteristicas\n",
    "        F, f_names = ShortTermFeatures.feature_extraction(x, Fs, 0.050*Fs, 0.025*Fs)\n",
    "        # Guarda las caracteristicas en csv\n",
    "        np.savetxt('{}/{}.csv'.format(feature_dir, index), F, delimiter=',')\n",
    "        # Guarda el label\n",
    "        add_audio_emotion(index, file, labels)\n",
    "        index += 1\n",
    "    except Exception:\n",
    "        add_error(file, errors)"
   ]
  },
  {
   "cell_type": "code",
   "execution_count": 15,
   "metadata": {},
   "outputs": [
    {
     "data": {
      "text/plain": [
       "Text(0.5, 1.0, 'Duracion de audios en segundos')"
      ]
     },
     "execution_count": 15,
     "metadata": {},
     "output_type": "execute_result"
    },
    {
     "data": {
      "image/png": "[encoded data removed]",
      "text/plain": [
       "<Figure size 432x288 with 1 Axes>"
      ]
     },
     "metadata": {
      "needs_background": "light"
     },
     "output_type": "display_data"
    }
   ],
   "source": [
    "_ = plt.hist(lengths, bins='auto')\n",
    "plt.title(\"Duracion de audios en segundos\")"
   ]
  },
  {
   "cell_type": "code",
   "execution_count": 16,
   "metadata": {},
   "outputs": [
    {
     "data": {
      "text/plain": [
       "'Mínima duracion: 2.9362708333333334 \\t Máxima duracion: 5.2719375'"
      ]
     },
     "execution_count": 16,
     "metadata": {},
     "output_type": "execute_result"
    }
   ],
   "source": [
    "\"Mínima duracion: {} \\t Máxima duracion: {}\".format(min(lengths), max(lengths))"
   ]
  },
  {
   "cell_type": "markdown",
   "metadata": {},
   "source": [
    "## MELD preprocessing"
   ]
  },
  {
   "cell_type": "code",
   "execution_count": null,
   "metadata": {},
   "outputs": [],
   "source": []
  }
 ],
 "metadata": {
  "kernelspec": {
   "display_name": "Python 3",
   "language": "python",
   "name": "python3"
  },
  "language_info": {
   "codemirror_mode": {
    "name": "ipython",
    "version": 3
   },
   "file_extension": ".py",
   "mimetype": "text/x-python",
   "name": "python",
   "nbconvert_exporter": "python",
   "pygments_lexer": "ipython3",
   "version": "3.7.2"
  }
 },
 "nbformat": 4,
 "nbformat_minor": 2
}
