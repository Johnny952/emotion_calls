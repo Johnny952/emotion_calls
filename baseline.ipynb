{
 "cells": [
  {
   "cell_type": "code",
   "execution_count": null,
   "metadata": {},
   "outputs": [],
   "source": [
    "# Librería de procesamiento de audio\n",
    "import pyAudioAnalysis\n",
    "# Matplotlib para gráficos\n",
    "import matplotlib.pyplot as plt\n",
    "# Librerías fundamentales\n",
    "import numpy as np\n",
    "import glob\n",
    "import os\n",
    "import pandas as pd\n",
    "# Sklearn\n",
    "from sklearn.model_selection import train_test_split\n",
    "from sklearn.ensemble import RandomForestClassifier\n",
    "from sklearn.pipeline import Pipeline\n",
    "from sklearn.feature_selection import SelectFromModel, SelectKBest, VarianceThreshold, chi2\n",
    "from sklearn.preprocessing import StandardScaler\n",
    "from sklearn.metrics import classification_report, roc_curve, confusion_matrix\n",
    "from sklearn.svm import SVC\n",
    "from sklearn.decomposition import PCA"
   ]
  },
  {
   "cell_type": "code",
   "execution_count": null,
   "metadata": {},
   "outputs": [],
   "source": [
    "# Importa nombres de archivos y lee matriz de labels\n",
    "path = \"pyaudio/data\"\n",
    "filenames_ravdess = glob.glob(path+\"/*.npy\")\n",
    "ravdess_labels = pd.read_csv('pyaudio/labels.csv',delimiter=',',names=['filename','label'])\n",
    "ravdess_labels.head(5)"
   ]
  },
  {
   "cell_type": "code",
   "execution_count": null,
   "metadata": {},
   "outputs": [],
   "source": [
    "# Crea el dataset RAVDESS\n",
    "dataset_ravdess = []\n",
    "for filepath in filenames_ravdess:\n",
    "    data = np.load(filepath).flatten()\n",
    "    filename = filepath.split(\"/\")[-1].split(\".\")[0]\n",
    "    label = ravdess_labels[ravdess_labels['filename']==filename]['label'].to_numpy()[0]\n",
    "    dataset_ravdess.append([data,label])  \n",
    "dataset_ravdess = pd.DataFrame(dataset_ravdess,columns=['feats','label'])\n",
    "dataset_ravdess.head(5)"
   ]
  },
  {
   "cell_type": "code",
   "execution_count": null,
   "metadata": {},
   "outputs": [],
   "source": [
    "# Separación de dataset en conjuntos de entrenamiento, validación y test\n",
    "X = dataset_ravdess['feats']\n",
    "y = dataset_ravdess['label']\n",
    "X_train, X_test, y_train, y_test = train_test_split(X, y, test_size=0.2, random_state=42)\n",
    "X_train, X_val, y_train, y_val = train_test_split(X_train, y_train, test_size=0.2, \n",
    "                                                  random_state=42)"
   ]
  },
  {
   "cell_type": "code",
   "execution_count": null,
   "metadata": {},
   "outputs": [],
   "source": [
    "# Definición de experimentos a realizar \n",
    "def experiment_1():\n",
    "    param_grid= {'svm__kernel':('linear', 'rbf'), 'svm__C':[0.1, 1, 10, 20]}\n",
    "    pipe = Pipeline(steps=[('scaler',StandardScaler()),\n",
    "                         ('svm',SVC(gamma='auto'))])\n",
    "    clf = GridSearchCV(pipe,param_grid,cv=5,n_jobs=-1)\n",
    "    clf.fit(X_train.to_list(),y_train)\n",
    "    print(\"Mejores parámetros encontrados: \",clf.best_params_)\n",
    "    return clf\n",
    "    \n",
    "def experiment_2():\n",
    "    param_grid= {'svm__kernel':('linear', 'rbf'), 'svm__C':[0.1, 1, 10, 20]}\n",
    "    pipe = Pipeline(steps=[('svm',SVC(gamma='auto'))])\n",
    "    clf = GridSearchCV(pipe,param_grid,cv=5,n_jobs=-1)\n",
    "    clf.fit(X_train.to_list(),y_train)\n",
    "    print(\"Mejores parámetros encontrados: \", clf.best_params_)\n",
    "    return clf\n",
    "\n",
    "def experiment_3():\n",
    "    clf = RandomForestClassifier(n_estimators=1000)\n",
    "    clf.fit(X_train.to_list(),y_train)\n",
    "    return clf\n",
    "\n",
    "def experiment_4():\n",
    "    clf = Pipeline([('feat_selection',VarianceThreshold(threshold=(.8 * (1 - .8)))),\n",
    "                    ('svm',SVC(gamma='auto',C=10,kernel='rbf'))])\n",
    "    clf.fit(X_train.to_list(),y_train)\n",
    "    return clf\n",
    "\n",
    "def experiment_5():\n",
    "    clf = Pipeline([('feat_selection',SelectFromModel(RandomForestClassifier(n_estimators=500))),\n",
    "                    ('svm',SVC(gamma='auto',C=10,kernel='rbf'))])\n",
    "    clf.fit(X_train.to_list(),y_train)\n",
    "    return clf\n",
    "    \n",
    "def experiment_6():\n",
    "    param_grid= {'feat_selection__k':[100,500,1000]}\n",
    "    pipe = Pipeline([('feat_selection',SelectKBest()),\n",
    "                    ('svm',SVC(gamma='auto',C=10,kernel='rbf'))])\n",
    "    clf = GridSearchCV(pipe,param_grid,cv=5,n_jobs=-1)\n",
    "    clf.fit(X_train.to_list(),y_train)\n",
    "    print(\"Mejor Cantidad de Features: \",clf.best_params_)\n",
    "    return clf\n",
    "\n",
    "def experiment_7():\n",
    "    param_grid= {'pca__n_components':[10,50,100,500]}\n",
    "    pipe = Pipeline([('feat_selection',SelectFromModel(RandomForestClassifier(n_estimators=500))),\n",
    "                     ('pca',PCA()),\n",
    "                    ('svm',SVC(gamma='auto',C=10,kernel='rbf'))])\n",
    "    clf = GridSearchCV(pipe,param_grid,cv=5,n_jobs=-1)\n",
    "    clf.fit(X_train.to_list(),y_train)\n",
    "    print(\"Mejor Reducción de Dimensionalidad: \",clf.best_params_)\n",
    "    return clf\n",
    "\n",
    "def experiment_8():\n",
    "    param_grid= {'pca__n_components':[10,50,100,500,1000]}\n",
    "    pipe = Pipeline([('pca',PCA()),\n",
    "                    ('svm',SVC(gamma='auto',C=10,kernel='rbf'))])\n",
    "    clf = GridSearchCV(pipe,param_grid,cv=5,n_jobs=-1)\n",
    "    clf.fit(X_train.to_list(),y_train)\n",
    "    print(\"Mejor Reducción de Dimensionalidad: \",clf.best_params_)\n",
    "    return clf"
   ]
  },
  {
   "cell_type": "code",
   "execution_count": null,
   "metadata": {
    "scrolled": true
   },
   "outputs": [],
   "source": [
    "# Ejecuta un experimento\n",
    "clf = experiment_6()"
   ]
  },
  {
   "cell_type": "code",
   "execution_count": null,
   "metadata": {
    "scrolled": true
   },
   "outputs": [],
   "source": [
    "# Evalúa sobre el conjunto de validación\n",
    "pred = clf.predict(X_val.to_list())\n",
    "print(classification_report(y_val, pred))\n",
    "print(\"MATRIZ DE CONFUSIÓN:\\n\\n{}\".format(confusion_matrix(y_val,pred)))"
   ]
  },
  {
   "cell_type": "code",
   "execution_count": null,
   "metadata": {},
   "outputs": [],
   "source": []
  },
  {
   "cell_type": "code",
   "execution_count": null,
   "metadata": {},
   "outputs": [],
   "source": []
  }
 ],
 "metadata": {
  "kernelspec": {
   "display_name": "EmotionCalls",
   "language": "python",
   "name": "emotioncalls"
  },
  "language_info": {
   "codemirror_mode": {
    "name": "ipython",
    "version": 3
   },
   "file_extension": ".py",
   "mimetype": "text/x-python",
   "name": "python",
   "nbconvert_exporter": "python",
   "pygments_lexer": "ipython3",
   "version": "3.8.3"
  }
 },
 "nbformat": 4,
 "nbformat_minor": 2
}
