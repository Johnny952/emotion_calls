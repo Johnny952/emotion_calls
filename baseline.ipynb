{
 "cells": [
  {
   "cell_type": "code",
   "execution_count": 5,
   "metadata": {},
   "outputs": [],
   "source": [
    "# Librería de procesamiento de audio\n",
    "import pyAudioAnalysis\n",
    "# Matplotlib para gráficos\n",
    "import matplotlib.pyplot as plt\n",
    "# Librerías fundamentales\n",
    "import numpy as np\n",
    "import glob\n",
    "import os\n",
    "import pandas as pd\n",
    "# Sklearn\n",
    "from sklearn.model_selection import train_test_split, GridSearchCV\n",
    "from sklearn.ensemble import RandomForestClassifier\n",
    "from sklearn.pipeline import Pipeline\n",
    "from sklearn.feature_selection import SelectFromModel, SelectKBest, VarianceThreshold, chi2\n",
    "from sklearn.preprocessing import StandardScaler\n",
    "from sklearn.metrics import classification_report, roc_curve, confusion_matrix\n",
    "from sklearn.svm import SVC\n",
    "from sklearn.decomposition import PCA"
   ]
  },
  {
   "cell_type": "code",
   "execution_count": 6,
   "metadata": {},
   "outputs": [
    {
     "data": {
      "text/html": [
       "<div>\n",
       "<style scoped>\n",
       "    .dataframe tbody tr th:only-of-type {\n",
       "        vertical-align: middle;\n",
       "    }\n",
       "\n",
       "    .dataframe tbody tr th {\n",
       "        vertical-align: top;\n",
       "    }\n",
       "\n",
       "    .dataframe thead th {\n",
       "        text-align: right;\n",
       "    }\n",
       "</style>\n",
       "<table border=\"1\" class=\"dataframe\">\n",
       "  <thead>\n",
       "    <tr style=\"text-align: right;\">\n",
       "      <th></th>\n",
       "      <th>filename</th>\n",
       "      <th>label</th>\n",
       "    </tr>\n",
       "  </thead>\n",
       "  <tbody>\n",
       "    <tr>\n",
       "      <th>0</th>\n",
       "      <td>03-01-01-01-02-02-12_0</td>\n",
       "      <td>1</td>\n",
       "    </tr>\n",
       "    <tr>\n",
       "      <th>1</th>\n",
       "      <td>03-01-01-01-01-02-20_1</td>\n",
       "      <td>1</td>\n",
       "    </tr>\n",
       "    <tr>\n",
       "      <th>2</th>\n",
       "      <td>03-01-04-02-01-02-06_0</td>\n",
       "      <td>4</td>\n",
       "    </tr>\n",
       "    <tr>\n",
       "      <th>3</th>\n",
       "      <td>03-01-05-01-02-02-14_1</td>\n",
       "      <td>5</td>\n",
       "    </tr>\n",
       "    <tr>\n",
       "      <th>4</th>\n",
       "      <td>03-01-07-02-01-01-24_0</td>\n",
       "      <td>7</td>\n",
       "    </tr>\n",
       "  </tbody>\n",
       "</table>\n",
       "</div>"
      ],
      "text/plain": [
       "                 filename  label\n",
       "0  03-01-01-01-02-02-12_0      1\n",
       "1  03-01-01-01-01-02-20_1      1\n",
       "2  03-01-04-02-01-02-06_0      4\n",
       "3  03-01-05-01-02-02-14_1      5\n",
       "4  03-01-07-02-01-01-24_0      7"
      ]
     },
     "execution_count": 6,
     "metadata": {},
     "output_type": "execute_result"
    }
   ],
   "source": [
    "# Importa nombres de archivos y lee matriz de labels\n",
    "path = \"pyaudio/data\"\n",
    "filenames_ravdess = glob.glob(path+\"/*.npy\")\n",
    "ravdess_labels = pd.read_csv('pyaudio/labels.csv',delimiter=',',names=['filename','label'])\n",
    "ravdess_labels.head(5)"
   ]
  },
  {
   "cell_type": "code",
   "execution_count": 7,
   "metadata": {},
   "outputs": [
    {
     "data": {
      "text/html": [
       "<div>\n",
       "<style scoped>\n",
       "    .dataframe tbody tr th:only-of-type {\n",
       "        vertical-align: middle;\n",
       "    }\n",
       "\n",
       "    .dataframe tbody tr th {\n",
       "        vertical-align: top;\n",
       "    }\n",
       "\n",
       "    .dataframe thead th {\n",
       "        text-align: right;\n",
       "    }\n",
       "</style>\n",
       "<table border=\"1\" class=\"dataframe\">\n",
       "  <thead>\n",
       "    <tr style=\"text-align: right;\">\n",
       "      <th></th>\n",
       "      <th>feats</th>\n",
       "      <th>label</th>\n",
       "    </tr>\n",
       "  </thead>\n",
       "  <tbody>\n",
       "    <tr>\n",
       "      <th>0</th>\n",
       "      <td>[0.04335139641517299, 0.0141725719049604, 0.01...</td>\n",
       "      <td>6</td>\n",
       "    </tr>\n",
       "    <tr>\n",
       "      <th>1</th>\n",
       "      <td>[0.2275948311796582, 0.03793247186327636, 0.03...</td>\n",
       "      <td>4</td>\n",
       "    </tr>\n",
       "    <tr>\n",
       "      <th>2</th>\n",
       "      <td>[0.0358482701125469, 0.0283451438099208, 0.011...</td>\n",
       "      <td>6</td>\n",
       "    </tr>\n",
       "    <tr>\n",
       "      <th>3</th>\n",
       "      <td>[0.0425177157148812, 0.05168820341809087, 0.06...</td>\n",
       "      <td>5</td>\n",
       "    </tr>\n",
       "    <tr>\n",
       "      <th>4</th>\n",
       "      <td>[0.023759899958315966, 0.07461442267611505, 0....</td>\n",
       "      <td>2</td>\n",
       "    </tr>\n",
       "  </tbody>\n",
       "</table>\n",
       "</div>"
      ],
      "text/plain": [
       "                                               feats  label\n",
       "0  [0.04335139641517299, 0.0141725719049604, 0.01...      6\n",
       "1  [0.2275948311796582, 0.03793247186327636, 0.03...      4\n",
       "2  [0.0358482701125469, 0.0283451438099208, 0.011...      6\n",
       "3  [0.0425177157148812, 0.05168820341809087, 0.06...      5\n",
       "4  [0.023759899958315966, 0.07461442267611505, 0....      2"
      ]
     },
     "execution_count": 7,
     "metadata": {},
     "output_type": "execute_result"
    }
   ],
   "source": [
    "# Crea el dataset RAVDESS\n",
    "dataset_ravdess = []\n",
    "for filepath in filenames_ravdess:\n",
    "    data = np.load(filepath).flatten()\n",
    "    filename = filepath.split(\"/\")[-1].split(\".\")[0]\n",
    "    label = ravdess_labels[ravdess_labels['filename']==filename]['label'].to_numpy()[0]\n",
    "    dataset_ravdess.append([data,label])  \n",
    "dataset_ravdess = pd.DataFrame(dataset_ravdess,columns=['feats','label'])\n",
    "dataset_ravdess.head(5)"
   ]
  },
  {
   "cell_type": "code",
   "execution_count": 8,
   "metadata": {},
   "outputs": [],
   "source": [
    "# Separación de dataset en conjuntos de entrenamiento, validación y test\n",
    "X = dataset_ravdess['feats']\n",
    "y = dataset_ravdess['label']\n",
    "X_train, X_test, y_train, y_test = train_test_split(X, y, test_size=0.2, random_state=42)\n",
    "X_train, X_val, y_train, y_val = train_test_split(X_train, y_train, test_size=0.2, \n",
    "                                                  random_state=42)"
   ]
  },
  {
   "cell_type": "code",
   "execution_count": 9,
   "metadata": {},
   "outputs": [],
   "source": [
    "# Definición de experimentos a realizar \n",
    "def experiment_1():\n",
    "    param_grid= {'svm__kernel':('linear', 'rbf'), 'svm__C':[0.1, 1, 10, 20]}\n",
    "    pipe = Pipeline(steps=[('scaler',StandardScaler()),\n",
    "                         ('svm',SVC(gamma='auto'))])\n",
    "    clf = GridSearchCV(pipe,param_grid,cv=5,n_jobs=-1)\n",
    "    clf.fit(X_train.to_list(),y_train)\n",
    "    print(\"Mejores parámetros encontrados: \",clf.best_params_)\n",
    "    return clf\n",
    "    \n",
    "def experiment_2():\n",
    "    param_grid= {'svm__kernel':('linear', 'rbf'), 'svm__C':[0.1, 1, 10, 20]}\n",
    "    pipe = Pipeline(steps=[('svm',SVC(gamma='auto'))])\n",
    "    clf = GridSearchCV(pipe,param_grid,cv=5,n_jobs=-1)\n",
    "    clf.fit(X_train.to_list(),y_train)\n",
    "    print(\"Mejores parámetros encontrados: \", clf.best_params_)\n",
    "    return clf\n",
    "\n",
    "def experiment_3():\n",
    "    clf = RandomForestClassifier(n_estimators=1000)\n",
    "    clf.fit(X_train.to_list(),y_train)\n",
    "    return clf\n",
    "\n",
    "def experiment_4():\n",
    "    clf = Pipeline([('feat_selection',VarianceThreshold(threshold=(.8 * (1 - .8)))),\n",
    "                    ('svm',SVC(gamma='auto',C=10,kernel='rbf'))])\n",
    "    clf.fit(X_train.to_list(),y_train)\n",
    "    return clf\n",
    "\n",
    "def experiment_5():\n",
    "    clf = Pipeline([('feat_selection',SelectFromModel(RandomForestClassifier(n_estimators=500))),\n",
    "                    ('svm',SVC(gamma='auto',C=10,kernel='rbf'))])\n",
    "    clf.fit(X_train.to_list(),y_train)\n",
    "    return clf\n",
    "    \n",
    "def experiment_6():\n",
    "    param_grid= {'feat_selection__k':[100,500,1000]}\n",
    "    pipe = Pipeline([('feat_selection',SelectKBest()),\n",
    "                    ('svm',SVC(gamma='auto',C=10,kernel='rbf'))])\n",
    "    clf = GridSearchCV(pipe,param_grid,cv=5,n_jobs=-1)\n",
    "    clf.fit(X_train.to_list(),y_train)\n",
    "    print(\"Mejor Cantidad de Features: \",clf.best_params_)\n",
    "    return clf\n",
    "\n",
    "def experiment_7():\n",
    "    param_grid= {'pca__n_components':[10,50,100,500]}\n",
    "    pipe = Pipeline([('feat_selection',SelectFromModel(RandomForestClassifier(n_estimators=500))),\n",
    "                     ('pca',PCA()),\n",
    "                    ('svm',SVC(gamma='auto',C=10,kernel='rbf'))])\n",
    "    clf = GridSearchCV(pipe,param_grid,cv=5,n_jobs=-1)\n",
    "    clf.fit(X_train.to_list(),y_train)\n",
    "    print(\"Mejor Reducción de Dimensionalidad: \",clf.best_params_)\n",
    "    return clf\n",
    "\n",
    "def experiment_8():\n",
    "    param_grid= {'pca__n_components':[10,50,100,500,1000]}\n",
    "    pipe = Pipeline([('pca',PCA()),\n",
    "                    ('svm',SVC(gamma='auto',C=10,kernel='rbf'))])\n",
    "    clf = GridSearchCV(pipe,param_grid,cv=5,n_jobs=-1)\n",
    "    clf.fit(X_train.to_list(),y_train)\n",
    "    print(\"Mejor Reducción de Dimensionalidad: \",clf.best_params_)\n",
    "    return clf"
   ]
  },
  {
   "cell_type": "code",
   "execution_count": 10,
   "metadata": {
    "scrolled": true
   },
   "outputs": [
    {
     "name": "stderr",
     "output_type": "stream",
     "text": [
      "/home/javier/anaconda3/envs/EmotionCalls/lib/python3.8/site-packages/sklearn/model_selection/_search.py:810: DeprecationWarning: The default of the `iid` parameter will change from True to False in version 0.22 and will be removed in 0.24. This will change numeric results when test-set sizes are unequal.\n",
      "  warnings.warn(\"The default of the `iid` parameter will change \"\n",
      "/home/javier/anaconda3/envs/EmotionCalls/lib/python3.8/site-packages/sklearn/feature_selection/univariate_selection.py:113: UserWarning: Features [ 120  680  700  720  740  760  780  800  820  840  860  880  900  920\n",
      "  940  960  980 1000 1020 1040 1060 1080 1100 1120 1140 1160 1180 1200\n",
      " 1220 1240 1260 1280 1300 1320 1340] are constant.\n",
      "  warnings.warn(\"Features %s are constant.\" % constant_features_idx,\n",
      "/home/javier/anaconda3/envs/EmotionCalls/lib/python3.8/site-packages/sklearn/feature_selection/univariate_selection.py:115: RuntimeWarning: invalid value encountered in true_divide\n",
      "  f = msb / msw\n"
     ]
    },
    {
     "name": "stdout",
     "output_type": "stream",
     "text": [
      "Mejor Cantidad de Features:  {'feat_selection__k': 500}\n"
     ]
    }
   ],
   "source": [
    "# Ejecuta un experimento\n",
    "clf = experiment_6()"
   ]
  },
  {
   "cell_type": "code",
   "execution_count": 11,
   "metadata": {
    "scrolled": true
   },
   "outputs": [
    {
     "name": "stdout",
     "output_type": "stream",
     "text": [
      "              precision    recall  f1-score   support\n",
      "\n",
      "           1       0.44      0.48      0.46        25\n",
      "           2       0.75      0.71      0.73        75\n",
      "           3       0.33      0.40      0.36        53\n",
      "           4       0.36      0.46      0.40        59\n",
      "           5       0.59      0.68      0.63        72\n",
      "           6       0.54      0.36      0.43        73\n",
      "           7       0.57      0.65      0.61        72\n",
      "           8       0.49      0.36      0.41        73\n",
      "\n",
      "    accuracy                           0.52       502\n",
      "   macro avg       0.51      0.51      0.50       502\n",
      "weighted avg       0.53      0.52      0.52       502\n",
      "\n",
      "MATRIZ DE CONFUSIÓN:\n",
      "\n",
      "[[12  5  0  7  0  0  1  0]\n",
      " [ 6 53  4  7  0  1  3  1]\n",
      " [ 2  4 21  6  5  4  5  6]\n",
      " [ 3  3  6 27  6  3  9  2]\n",
      " [ 3  0  5  3 49  2  6  4]\n",
      " [ 0  4 10  8  7 26  7 11]\n",
      " [ 0  0  4  8  5  5 47  3]\n",
      " [ 1  2 13  9 11  7  4 26]]\n"
     ]
    }
   ],
   "source": [
    "# Evalúa sobre el conjunto de validación\n",
    "pred = clf.predict(X_val.to_list())\n",
    "print(classification_report(y_val, pred))\n",
    "print(\"MATRIZ DE CONFUSIÓN:\\n\\n{}\".format(confusion_matrix(y_val,pred)))"
   ]
  },
  {
   "cell_type": "code",
   "execution_count": null,
   "metadata": {},
   "outputs": [],
   "source": []
  }
 ],
 "metadata": {
  "kernelspec": {
   "display_name": "EmotionCalls",
   "language": "python",
   "name": "emotioncalls"
  },
  "language_info": {
   "codemirror_mode": {
    "name": "ipython",
    "version": 3
   },
   "file_extension": ".py",
   "mimetype": "text/x-python",
   "name": "python",
   "nbconvert_exporter": "python",
   "pygments_lexer": "ipython3",
   "version": "3.8.3"
  }
 },
 "nbformat": 4,
 "nbformat_minor": 2
}
