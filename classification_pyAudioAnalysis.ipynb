{
 "cells": [
  {
   "cell_type": "code",
   "execution_count": 96,
   "metadata": {},
   "outputs": [],
   "source": [
    "import pyAudioAnalysis\n",
    "import numpy as np\n",
    "import glob\n",
    "import os\n",
    "import pandas as pd\n",
    "\n",
    "path = \"pyaudio/data\"\n",
    "filenames = glob.glob(path+\"/*.npy\")"
   ]
  },
  {
   "cell_type": "code",
   "execution_count": 98,
   "metadata": {},
   "outputs": [
    {
     "name": "stdout",
     "output_type": "stream",
     "text": [
      "TAMAÑO MATRIZ pyaudio/data/03-01-08-02-01-01-04_1.wav_st.npy = (68, 20)\n",
      "TAMAÑO MATRIZ pyaudio/data/03-01-07-02-02-02-20_0.wav_st.npy = (68, 20)\n"
     ]
    }
   ],
   "source": [
    "print(\"TAMAÑO MATRIZ {} = {}\".format(filenames[10],\\\n",
    "                                      np.load(filenames[50]).shape))\n",
    "print(\"TAMAÑO MATRIZ {} = {}\".format(filenames[20],\\\n",
    "                                      np.load(filenames[12]).shape))"
   ]
  },
  {
   "cell_type": "code",
   "execution_count": 95,
   "metadata": {},
   "outputs": [],
   "source": [
    "#Exports to a wav file in the current path."
   ]
  },
  {
   "cell_type": "code",
   "execution_count": null,
   "metadata": {},
   "outputs": [],
   "source": []
  }
 ],
 "metadata": {
  "kernelspec": {
   "display_name": "EmotionCalls",
   "language": "python",
   "name": "emotioncalls"
  },
  "language_info": {
   "codemirror_mode": {
    "name": "ipython",
    "version": 3
   },
   "file_extension": ".py",
   "mimetype": "text/x-python",
   "name": "python",
   "nbconvert_exporter": "python",
   "pygments_lexer": "ipython3",
   "version": "3.8.3"
  }
 },
 "nbformat": 4,
 "nbformat_minor": 2
}
